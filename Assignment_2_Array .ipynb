{
 "cells": [
  {
   "cell_type": "markdown",
   "id": "8e5f356f",
   "metadata": {},
   "source": [
    "<aside>\n",
    "💡 **Question 1**\n",
    "Given an integer array nums of 2n integers, group these integers into n pairs (a1, b1), (a2, b2),..., (an, bn) such that the sum of min(ai, bi) for all i is maximized. Return the maximized sum.\n",
    "\n",
    "**Example 1:**\n",
    "Input: nums = [1,4,3,2]\n",
    "Output: 4\n",
    "\n",
    "**Explanation:** All possible pairings (ignoring the ordering of elements) are:\n",
    "\n",
    "1. (1, 4), (2, 3) -> min(1, 4) + min(2, 3) = 1 + 2 = 3\n",
    "2. (1, 3), (2, 4) -> min(1, 3) + min(2, 4) = 1 + 2 = 3\n",
    "3. (1, 2), (3, 4) -> min(1, 2) + min(3, 4) = 1 + 3 = 4\n",
    "So the maximum possible sum is 4\n",
    "</aside>"
   ]
  },
  {
   "cell_type": "code",
   "execution_count": 1,
   "id": "3d143aef",
   "metadata": {},
   "outputs": [
    {
     "name": "stdout",
     "output_type": "stream",
     "text": [
      "4\n"
     ]
    }
   ],
   "source": [
    "def array_pair_sum(nums):\n",
    "    nums.sort()  # Step 1\n",
    "    max_sum = 0  # Step 2\n",
    "    for i in range(0, len(nums), 2):  # Step 3\n",
    "        max_sum += nums[i]  # Step 4\n",
    "    return max_sum  # Step 5\n",
    "nums = [1, 4, 3, 2]\n",
    "print(array_pair_sum(nums))\n"
   ]
  },
  {
   "cell_type": "markdown",
   "id": "5aac58af",
   "metadata": {},
   "source": [
    "Question 2\n",
    "Alice has n candies, where the ith candy is of type candyType[i]. Alice noticed that she started to gain weight, so she visited a doctor. \n",
    "\n",
    "The doctor advised Alice to only eat n / 2 of the candies she has (n is always even). Alice likes her candies very much, and she wants to eat the maximum number of different types of candies while still following the doctor's advice. \n",
    "\n",
    "Given the integer array candyType of length n, return the maximum number of different types of candies she can eat if she only eats n / 2 of them.\n",
    "\n",
    "Example 1:\n",
    "Input: candyType = [1,1,2,2,3,3]\n",
    "Output: 3\n",
    "\n",
    "Explanation: Alice can only eat 6 / 2 = 3 candies. Since there are only 3 types, she can eat one of each type."
   ]
  },
  {
   "cell_type": "code",
   "execution_count": 2,
   "id": "b7c16bff",
   "metadata": {},
   "outputs": [
    {
     "name": "stdout",
     "output_type": "stream",
     "text": [
      "3\n"
     ]
    }
   ],
   "source": [
    "def max_candies(candyType):\n",
    "    unique_candies = set()  # Step 1\n",
    "    for candy in candyType:  # Step 2\n",
    "        unique_candies.add(candy)  # Step 3\n",
    "    max_candies = min(len(unique_candies), len(candyType) // 2)  # Step 4\n",
    "    return max_candies  # Step 5\n",
    "candyType = [1, 1, 2, 2, 3, 3]\n",
    "print(max_candies(candyType))\n"
   ]
  },
  {
   "cell_type": "markdown",
   "id": "f3f6e869",
   "metadata": {},
   "source": [
    "Question 3\n",
    "We define a harmonious array as an array where the difference between its maximum value\n",
    "and its minimum value is exactly 1.\n",
    "\n",
    "Given an integer array nums, return the length of its longest harmonious subsequence\n",
    "among all its possible subsequences.\n",
    "\n",
    "A subsequence of an array is a sequence that can be derived from the array by deleting some or no elements without changing the order of the remaining elements.\n",
    "\n",
    "Example 1:\n",
    "Input: nums = [1,3,2,2,5,2,3,7]\n",
    "Output: 5\n",
    "\n",
    "Explanation: The longest harmonious subsequence is [3,2,2,2,3]."
   ]
  },
  {
   "cell_type": "code",
   "execution_count": 3,
   "id": "12d3bbeb",
   "metadata": {},
   "outputs": [
    {
     "name": "stdout",
     "output_type": "stream",
     "text": [
      "5\n"
     ]
    }
   ],
   "source": [
    "def findLHS(nums):\n",
    "    freq_map = {}  # Step 1\n",
    "    for num in nums:  # Step 2\n",
    "        freq_map[num] = freq_map.get(num, 0) + 1\n",
    "    \n",
    "    max_length = 0  # Step 3\n",
    "    for num in nums:  # Step 4\n",
    "        if num + 1 in freq_map:\n",
    "            length = freq_map[num] + freq_map[num + 1]\n",
    "            if length > max_length:\n",
    "                max_length = length\n",
    "        if num - 1 in freq_map:\n",
    "            length = freq_map[num] + freq_map[num - 1]\n",
    "            if length > max_length:\n",
    "                max_length = length\n",
    "\n",
    "    return max_length  # Step 5\n",
    "nums = [1, 3, 2, 2, 5, 2, 3, 7]\n",
    "print(findLHS(nums))\n"
   ]
  },
  {
   "cell_type": "markdown",
   "id": "d8240bd7",
   "metadata": {},
   "source": [
    "Question 4\n",
    "You have a long flowerbed in which some of the plots are planted, and some are not.\n",
    "However, flowers cannot be planted in adjacent plots.\n",
    "Given an integer array flowerbed containing 0's and 1's, where 0 means empty and 1 means not empty, and an integer n, return true if n new flowers can be planted in the flowerbed without violating the no-adjacent-flowers rule and false otherwise.\n",
    "\n",
    "Example 1:\n",
    "Input: flowerbed = [1,0,0,0,1], n = 1\n",
    "Output: true"
   ]
  },
  {
   "cell_type": "code",
   "execution_count": 4,
   "id": "fb27ad46",
   "metadata": {},
   "outputs": [
    {
     "name": "stdout",
     "output_type": "stream",
     "text": [
      "True\n"
     ]
    }
   ],
   "source": [
    "def canPlaceFlowers(flowerbed, n):\n",
    "    count = 0  # Step 1\n",
    "    for i in range(len(flowerbed)):  # Step 2\n",
    "        if flowerbed[i] == 0 and (i == 0 or flowerbed[i-1] == 0) and (i == len(flowerbed)-1 or flowerbed[i+1] == 0):  # Step 3\n",
    "            flowerbed[i] = 1  # Plant a flower\n",
    "            count += 1\n",
    "            n -= 1\n",
    "        if n == 0:  # All flowers planted\n",
    "            return True\n",
    "    return False  # Step 5\n",
    "flowerbed = [1, 0, 0, 0, 1]\n",
    "n = 1\n",
    "print(canPlaceFlowers(flowerbed, n))\n"
   ]
  },
  {
   "cell_type": "markdown",
   "id": "d6508a64",
   "metadata": {},
   "source": [
    "Question 5\n",
    "Given an integer array nums, find three numbers whose product is maximum and return the maximum product.\n",
    "\n",
    "Example 1:\n",
    "Input: nums = [1,2,3]\n",
    "Output: 6"
   ]
  },
  {
   "cell_type": "code",
   "execution_count": 5,
   "id": "706c70af",
   "metadata": {},
   "outputs": [
    {
     "name": "stdout",
     "output_type": "stream",
     "text": [
      "6\n"
     ]
    }
   ],
   "source": [
    "def maximumProduct(nums):\n",
    "    nums.sort()  # Step 1\n",
    "    n = len(nums)\n",
    "    max_product = nums[n-1] * nums[n-2] * nums[n-3]  # Step 2\n",
    "    alt_product = nums[0] * nums[1] * nums[n-1]  # Step 3\n",
    "#     print(max_product, alt_product)\n",
    "    return max(max_product, alt_product)  # Step 4\n",
    "nums = [1, 2, 3]\n",
    "print(maximumProduct(nums))\n"
   ]
  },
  {
   "cell_type": "markdown",
   "id": "e64f085a",
   "metadata": {},
   "source": [
    "Question 6\n",
    "Given an array of integers nums which is sorted in ascending order, and an integer target,\n",
    "write a function to search target in nums. If target exists, then return its index. Otherwise,\n",
    "return -1.\n",
    "\n",
    "You must write an algorithm with O(log n) runtime complexity.\n",
    "\n",
    "Input: nums = [-1,0,3,5,9,12], target = 9\n",
    "Output: 4\n",
    "\n",
    "Explanation: 9 exists in nums and its index is 4"
   ]
  },
  {
   "cell_type": "code",
   "execution_count": 6,
   "id": "1782676b",
   "metadata": {},
   "outputs": [
    {
     "name": "stdout",
     "output_type": "stream",
     "text": [
      "4\n"
     ]
    }
   ],
   "source": [
    "def search(nums, target):\n",
    "    left, right = 0, len(nums) - 1  # Step 1\n",
    "    while left <= right:  # Step 2\n",
    "        mid = (left + right) // 2\n",
    "        if nums[mid] == target:\n",
    "            return mid\n",
    "        elif nums[mid] > target:\n",
    "            right = mid - 1\n",
    "        else:\n",
    "            left = mid + 1\n",
    "    return -1  # Step 3\n",
    "nums = [-1, 0, 3, 5, 9, 12]\n",
    "target = 9\n",
    "print(search(nums, target))\n"
   ]
  },
  {
   "cell_type": "markdown",
   "id": "4324a729",
   "metadata": {},
   "source": [
    "Question 7\n",
    "An array is monotonic if it is either monotone increasing or monotone decreasing.\n",
    "\n",
    "An array nums is monotone increasing if for all i <= j, nums[i] <= nums[j]. An array nums is\n",
    "monotone decreasing if for all i <= j, nums[i] >= nums[j].\n",
    "\n",
    "Given an integer array nums, return true if the given array is monotonic, or false otherwise.\n",
    "\n",
    "Example 1:\n",
    "Input: nums = [1,2,2,3]\n",
    "Output: true"
   ]
  },
  {
   "cell_type": "code",
   "execution_count": 7,
   "id": "74fd6a44",
   "metadata": {},
   "outputs": [
    {
     "name": "stdout",
     "output_type": "stream",
     "text": [
      "True\n"
     ]
    }
   ],
   "source": [
    "def isMonotonic(nums):\n",
    "    increasing = True\n",
    "    decreasing = True\n",
    "    for i in range(1, len(nums)):\n",
    "        if nums[i] < nums[i-1]:\n",
    "            increasing = False\n",
    "        if nums[i] > nums[i-1]:\n",
    "            decreasing = False\n",
    "    return increasing or decreasing\n",
    "nums = [1, 2, 2, 3]\n",
    "print(isMonotonic(nums))\n"
   ]
  },
  {
   "cell_type": "markdown",
   "id": "7628afac",
   "metadata": {},
   "source": [
    "Question 8\n",
    "You are given an integer array nums and an integer k.\n",
    "\n",
    "In one operation, you can choose any index i where 0 <= i < nums.length and change nums[i] to nums[i] + x where x is an integer from the range [-k, k]. You can apply this operation at most once for each index i.\n",
    "\n",
    "The score of nums is the difference between the maximum and minimum elements in nums.\n",
    "\n",
    "Return the minimum score of nums after applying the mentioned operation at most once for each index in it.\n",
    "\n",
    "Example 1:\n",
    "Input: nums = [1], k = 0\n",
    "Output: 0\n",
    "\n",
    "Explanation: The score is max(nums) - min(nums) = 1 - 1 = 0."
   ]
  },
  {
   "cell_type": "code",
   "execution_count": 8,
   "id": "ec3dbbaa",
   "metadata": {},
   "outputs": [
    {
     "name": "stdout",
     "output_type": "stream",
     "text": [
      "0\n"
     ]
    }
   ],
   "source": [
    "def minimumScore(nums, k):\n",
    "    maximum = max(nums)  # Step 1\n",
    "    minimum = min(nums)\n",
    "    initial_score = maximum - minimum  # Step 2\n",
    "\n",
    "    maximum -= k  # Step 3\n",
    "    minimum += k\n",
    "\n",
    "    final_score = max(maximum - minimum, initial_score)  # Step 4\n",
    "    return min(final_score, initial_score)  # Step 5\n",
    "nums = [1]\n",
    "k = 0\n",
    "print(minimumScore(nums, k))\n"
   ]
  }
 ],
 "metadata": {
  "kernelspec": {
   "display_name": "Python 3",
   "language": "python",
   "name": "python3"
  },
  "language_info": {
   "codemirror_mode": {
    "name": "ipython",
    "version": 3
   },
   "file_extension": ".py",
   "mimetype": "text/x-python",
   "name": "python",
   "nbconvert_exporter": "python",
   "pygments_lexer": "ipython3",
   "version": "3.9.13"
  }
 },
 "nbformat": 4,
 "nbformat_minor": 5
}
