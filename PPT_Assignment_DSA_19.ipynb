{
 "cells": [
  {
   "cell_type": "markdown",
   "id": "0742b630",
   "metadata": {},
   "source": [
    "<aside>\n",
    "💡 1. **Merge k Sorted Lists**\n",
    "\n",
    "You are given an array of `k` linked-lists `lists`, each linked-list is sorted in ascending order.\n",
    "\n",
    "*Merge all the linked-lists into one sorted linked-list and return it.*\n",
    "\n",
    "**Example 1:**\n",
    "\n",
    "```\n",
    "Input: lists = [[1,4,5],[1,3,4],[2,6]]\n",
    "Output: [1,1,2,3,4,4,5,6]\n",
    "Explanation: The linked-lists are:\n",
    "[\n",
    "  1->4->5,\n",
    "  1->3->4,\n",
    "  2->6\n",
    "]\n",
    "merging them into one sorted list:\n",
    "1->1->2->3->4->4->5->6\n",
    "\n",
    "```\n",
    "\n",
    "**Example 2:**\n",
    "\n",
    "```\n",
    "Input: lists = []\n",
    "Output: []\n",
    "\n",
    "```\n",
    "\n",
    "**Example 3:**\n",
    "\n",
    "```\n",
    "Input: lists = [[]]\n",
    "Output: []\n",
    "\n",
    "```\n",
    "\n",
    "**Constraints:**\n",
    "\n",
    "- `k == lists.length`\n",
    "- `0 <= k <= 10000`\n",
    "- `0 <= lists[i].length <= 500`\n",
    "- `-10000 <= lists[i][j] <= 10000`\n",
    "- `lists[i]` is sorted in **ascending order**.\n",
    "- The sum of `lists[i].length` will not exceed `10000`.\n",
    "</aside>"
   ]
  },
  {
   "cell_type": "code",
   "execution_count": 10,
   "id": "ae37589a",
   "metadata": {},
   "outputs": [],
   "source": [
    "from heapq import heappush, heappop\n",
    "\n",
    "class ListNode:\n",
    "    def __init__(self, val=0, next=None):\n",
    "        self.val = val\n",
    "        self.next = next\n",
    "\n",
    "def mergeKLists(lists):\n",
    "    heap = []\n",
    "    for i, node in enumerate(lists):\n",
    "        if node:\n",
    "            heappush(heap, (node.val, i))\n",
    "    \n",
    "    dummy = ListNode()\n",
    "    curr = dummy\n",
    "    while heap:\n",
    "        val, i = heappop(heap)\n",
    "        curr.next = ListNode(val)\n",
    "        curr = curr.next\n",
    "        node = lists[i]\n",
    "        if node.next:\n",
    "            lists[i] = node.next\n",
    "            heappush(heap, (node.next.val, i))\n",
    "    \n",
    "    return dummy.next\n"
   ]
  },
  {
   "cell_type": "code",
   "execution_count": 11,
   "id": "37215814",
   "metadata": {},
   "outputs": [
    {
     "name": "stdout",
     "output_type": "stream",
     "text": [
      "[1, 1, 2, 3, 4, 4, 5, 6]\n",
      "[]\n",
      "[]\n"
     ]
    }
   ],
   "source": [
    "# Example 1\n",
    "lists = [\n",
    "    ListNode(1, ListNode(4, ListNode(5))),\n",
    "    ListNode(1, ListNode(3, ListNode(4))),\n",
    "    ListNode(2, ListNode(6))\n",
    "]\n",
    "merged = mergeKLists(lists)\n",
    "output = []\n",
    "while merged:\n",
    "    output.append(merged.val)\n",
    "    merged = merged.next\n",
    "print(output)\n",
    "# Output: [1, 1, 2, 3, 4, 4, 5, 6]\n",
    "\n",
    "# Example 2\n",
    "lists = []\n",
    "merged = mergeKLists(lists)\n",
    "output = []\n",
    "while merged:\n",
    "    output.append(merged.val)\n",
    "    merged = merged.next\n",
    "print(output)\n",
    "# Output: []\n",
    "\n",
    "# Example 3\n",
    "lists = [None]\n",
    "merged = mergeKLists(lists)\n",
    "output = []\n",
    "while merged:\n",
    "    output.append(merged.val)\n",
    "    merged = merged.next\n",
    "print(output)\n",
    "# Output: []\n"
   ]
  },
  {
   "cell_type": "markdown",
   "id": "eabc725f",
   "metadata": {},
   "source": [
    "<aside>\n",
    "💡 2. **Count of Smaller Numbers After Self**\n",
    "\n",
    "Given an integer array `nums`, return *an integer array* `counts` *where* `counts[i]` *is the number of smaller elements to the right of* `nums[i]`.\n",
    "\n",
    "**Example 1:**\n",
    "\n",
    "```\n",
    "Input: nums = [5,2,6,1]\n",
    "Output: [2,1,1,0]\n",
    "Explanation:\n",
    "To the right of 5 there are2 smaller elements (2 and 1).\n",
    "To the right of 2 there is only1 smaller element (1).\n",
    "To the right of 6 there is1 smaller element (1).\n",
    "To the right of 1 there is0 smaller element.\n",
    "\n",
    "```\n",
    "\n",
    "**Example 2:**\n",
    "\n",
    "```\n",
    "Input: nums = [-1]\n",
    "Output: [0]\n",
    "\n",
    "```\n",
    "\n",
    "**Example 3:**\n",
    "\n",
    "```\n",
    "Input: nums = [-1,-1]\n",
    "Output: [0,0]\n",
    "\n",
    "```\n",
    "\n",
    "**Constraints:**\n",
    "\n",
    "- `1 <= nums.length <= 100000`\n",
    "- `-10000 <= nums[i] <= 10000`\n",
    "</aside>"
   ]
  },
  {
   "cell_type": "code",
   "execution_count": 48,
   "id": "f51185b3",
   "metadata": {},
   "outputs": [
    {
     "name": "stdout",
     "output_type": "stream",
     "text": [
      "[2, 1, 1, 0]\n",
      "[0]\n",
      "[0, 0]\n"
     ]
    }
   ],
   "source": [
    "class TreeNode:\n",
    "    def __init__(self, val=0, left=None, right=None, count=0):\n",
    "        self.val = val\n",
    "        self.left = left\n",
    "        self.right = right\n",
    "        self.count = count\n",
    "\n",
    "def countSmaller(nums):\n",
    "    def insert(root, val, result, index, count=0):\n",
    "        if not root:\n",
    "            root = TreeNode(val=val, count=0)\n",
    "            result[index] = count\n",
    "        elif val == root.val:\n",
    "            root.count += 1\n",
    "            result[index] = count + get_count(root.left)\n",
    "        elif val < root.val:\n",
    "            root.count += 1\n",
    "            root.left = insert(root.left, val, result, index, count)\n",
    "        else:\n",
    "            count += root.count + 1\n",
    "            root.right = insert(root.right, val, result, index, count)\n",
    "        return root\n",
    "    \n",
    "    def get_count(node):\n",
    "        return node.count if node else 0\n",
    "\n",
    "    result = [0] * len(nums)\n",
    "    root = None\n",
    "    for i in range(len(nums) - 1, -1, -1):\n",
    "        root = insert(root, nums[i], result, i)\n",
    "    \n",
    "    return result\n",
    "\n",
    "# Example 1\n",
    "nums = [5, 2, 6, 1]\n",
    "counts = countSmaller(nums)\n",
    "print(counts)\n",
    "# Output: [2, 1, 1, 0]\n",
    "\n",
    "# Example 2\n",
    "nums = [-1]\n",
    "counts = countSmaller(nums)\n",
    "print(counts)\n",
    "# Output: [0]\n",
    "\n",
    "# Example 3\n",
    "nums = [-1, -1]\n",
    "counts = countSmaller(nums)\n",
    "print(counts)\n",
    "# Output: [0, 0]\n"
   ]
  },
  {
   "cell_type": "code",
   "execution_count": 44,
   "id": "15f68865",
   "metadata": {},
   "outputs": [
    {
     "ename": "AttributeError",
     "evalue": "'NoneType' object has no attribute 'count'",
     "output_type": "error",
     "traceback": [
      "\u001b[1;31m---------------------------------------------------------------------------\u001b[0m",
      "\u001b[1;31mAttributeError\u001b[0m                            Traceback (most recent call last)",
      "\u001b[1;32m<ipython-input-44-722aac5b4ff9>\u001b[0m in \u001b[0;36m<module>\u001b[1;34m\u001b[0m\n\u001b[0;32m      1\u001b[0m \u001b[1;31m# Example 1\u001b[0m\u001b[1;33m\u001b[0m\u001b[1;33m\u001b[0m\u001b[0m\n\u001b[0;32m      2\u001b[0m \u001b[0mnums\u001b[0m \u001b[1;33m=\u001b[0m \u001b[1;33m[\u001b[0m\u001b[1;36m5\u001b[0m\u001b[1;33m,\u001b[0m \u001b[1;36m2\u001b[0m\u001b[1;33m,\u001b[0m \u001b[1;36m6\u001b[0m\u001b[1;33m,\u001b[0m \u001b[1;36m1\u001b[0m\u001b[1;33m]\u001b[0m\u001b[1;33m\u001b[0m\u001b[1;33m\u001b[0m\u001b[0m\n\u001b[1;32m----> 3\u001b[1;33m \u001b[0mcounts\u001b[0m \u001b[1;33m=\u001b[0m \u001b[0mcountSmaller\u001b[0m\u001b[1;33m(\u001b[0m\u001b[0mnums\u001b[0m\u001b[1;33m)\u001b[0m\u001b[1;33m\u001b[0m\u001b[1;33m\u001b[0m\u001b[0m\n\u001b[0m\u001b[0;32m      4\u001b[0m \u001b[0mprint\u001b[0m\u001b[1;33m(\u001b[0m\u001b[0mcounts\u001b[0m\u001b[1;33m)\u001b[0m\u001b[1;33m\u001b[0m\u001b[1;33m\u001b[0m\u001b[0m\n\u001b[0;32m      5\u001b[0m \u001b[1;31m# Output: [2, 1, 1, 0]\u001b[0m\u001b[1;33m\u001b[0m\u001b[1;33m\u001b[0m\u001b[0m\n",
      "\u001b[1;32m<ipython-input-14-77c05184e578>\u001b[0m in \u001b[0;36mcountSmaller\u001b[1;34m(nums)\u001b[0m\n\u001b[0;32m     24\u001b[0m     \u001b[0mroot\u001b[0m \u001b[1;33m=\u001b[0m \u001b[1;32mNone\u001b[0m\u001b[1;33m\u001b[0m\u001b[1;33m\u001b[0m\u001b[0m\n\u001b[0;32m     25\u001b[0m     \u001b[1;32mfor\u001b[0m \u001b[0mi\u001b[0m \u001b[1;32min\u001b[0m \u001b[0mrange\u001b[0m\u001b[1;33m(\u001b[0m\u001b[0mlen\u001b[0m\u001b[1;33m(\u001b[0m\u001b[0mnums\u001b[0m\u001b[1;33m)\u001b[0m \u001b[1;33m-\u001b[0m \u001b[1;36m1\u001b[0m\u001b[1;33m,\u001b[0m \u001b[1;33m-\u001b[0m\u001b[1;36m1\u001b[0m\u001b[1;33m,\u001b[0m \u001b[1;33m-\u001b[0m\u001b[1;36m1\u001b[0m\u001b[1;33m)\u001b[0m\u001b[1;33m:\u001b[0m\u001b[1;33m\u001b[0m\u001b[1;33m\u001b[0m\u001b[0m\n\u001b[1;32m---> 26\u001b[1;33m         \u001b[0mroot\u001b[0m \u001b[1;33m=\u001b[0m \u001b[0minsert\u001b[0m\u001b[1;33m(\u001b[0m\u001b[0mroot\u001b[0m\u001b[1;33m,\u001b[0m \u001b[0mnums\u001b[0m\u001b[1;33m[\u001b[0m\u001b[0mi\u001b[0m\u001b[1;33m]\u001b[0m\u001b[1;33m,\u001b[0m \u001b[1;36m0\u001b[0m\u001b[1;33m,\u001b[0m \u001b[0mresult\u001b[0m\u001b[1;33m,\u001b[0m \u001b[0mi\u001b[0m\u001b[1;33m)\u001b[0m\u001b[1;33m\u001b[0m\u001b[1;33m\u001b[0m\u001b[0m\n\u001b[0m\u001b[0;32m     27\u001b[0m \u001b[1;33m\u001b[0m\u001b[0m\n\u001b[0;32m     28\u001b[0m     \u001b[1;32mreturn\u001b[0m \u001b[0mresult\u001b[0m\u001b[1;33m\u001b[0m\u001b[1;33m\u001b[0m\u001b[0m\n",
      "\u001b[1;32m<ipython-input-14-77c05184e578>\u001b[0m in \u001b[0;36minsert\u001b[1;34m(root, val, count, result, index)\u001b[0m\n\u001b[0;32m     18\u001b[0m             \u001b[0mroot\u001b[0m\u001b[1;33m.\u001b[0m\u001b[0mleft\u001b[0m \u001b[1;33m=\u001b[0m \u001b[0minsert\u001b[0m\u001b[1;33m(\u001b[0m\u001b[0mroot\u001b[0m\u001b[1;33m.\u001b[0m\u001b[0mleft\u001b[0m\u001b[1;33m,\u001b[0m \u001b[0mval\u001b[0m\u001b[1;33m,\u001b[0m \u001b[0mcount\u001b[0m\u001b[1;33m,\u001b[0m \u001b[0mresult\u001b[0m\u001b[1;33m,\u001b[0m \u001b[0mindex\u001b[0m\u001b[1;33m)\u001b[0m\u001b[1;33m\u001b[0m\u001b[1;33m\u001b[0m\u001b[0m\n\u001b[0;32m     19\u001b[0m         \u001b[1;32melse\u001b[0m\u001b[1;33m:\u001b[0m\u001b[1;33m\u001b[0m\u001b[1;33m\u001b[0m\u001b[0m\n\u001b[1;32m---> 20\u001b[1;33m             \u001b[0mroot\u001b[0m\u001b[1;33m.\u001b[0m\u001b[0mright\u001b[0m \u001b[1;33m=\u001b[0m \u001b[0minsert\u001b[0m\u001b[1;33m(\u001b[0m\u001b[0mroot\u001b[0m\u001b[1;33m.\u001b[0m\u001b[0mright\u001b[0m\u001b[1;33m,\u001b[0m \u001b[0mval\u001b[0m\u001b[1;33m,\u001b[0m \u001b[0mcount\u001b[0m \u001b[1;33m+\u001b[0m \u001b[0mroot\u001b[0m\u001b[1;33m.\u001b[0m\u001b[0mcount\u001b[0m \u001b[1;33m+\u001b[0m \u001b[0mroot\u001b[0m\u001b[1;33m.\u001b[0m\u001b[0mright\u001b[0m\u001b[1;33m.\u001b[0m\u001b[0mcount\u001b[0m\u001b[1;33m,\u001b[0m \u001b[0mresult\u001b[0m\u001b[1;33m,\u001b[0m \u001b[0mindex\u001b[0m\u001b[1;33m)\u001b[0m\u001b[1;33m\u001b[0m\u001b[1;33m\u001b[0m\u001b[0m\n\u001b[0m\u001b[0;32m     21\u001b[0m         \u001b[1;32mreturn\u001b[0m \u001b[0mroot\u001b[0m\u001b[1;33m\u001b[0m\u001b[1;33m\u001b[0m\u001b[0m\n\u001b[0;32m     22\u001b[0m \u001b[1;33m\u001b[0m\u001b[0m\n",
      "\u001b[1;31mAttributeError\u001b[0m: 'NoneType' object has no attribute 'count'"
     ]
    }
   ],
   "source": [
    "# Example 1\n",
    "nums = [5, 2, 6, 1]\n",
    "counts = countSmaller(nums)\n",
    "print(counts)\n",
    "# Output: [2, 1, 1, 0]\n",
    "\n",
    "# Example 2\n",
    "nums = [-1]\n",
    "counts = countSmaller(nums)\n",
    "print(counts)\n",
    "# Output: [0]\n",
    "\n",
    "# Example 3\n",
    "nums = [-1, -1]\n",
    "counts = countSmaller(nums)\n",
    "print(counts)\n",
    "# Output: [0, 0]\n"
   ]
  },
  {
   "cell_type": "markdown",
   "id": "6478e8c8",
   "metadata": {},
   "source": [
    "<aside>\n",
    "💡 3. **Sort an Array**\n",
    "\n",
    "Given an array of integers `nums`, sort the array in ascending order and return it.\n",
    "\n",
    "You must solve the problem **without using any built-in** functions in `O(nlog(n))` time complexity and with the smallest space complexity possible.\n",
    "\n",
    "**Example 1:**\n",
    "\n",
    "```\n",
    "Input: nums = [5,2,3,1]\n",
    "Output: [1,2,3,5]\n",
    "Explanation: After sorting the array, the positions of some numbers are not changed (for example, 2 and 3), while the positions of other numbers are changed (for example, 1 and 5).\n",
    "\n",
    "```\n",
    "\n",
    "**Example 2:**\n",
    "\n",
    "```\n",
    "Input: nums = [5,1,1,2,0,0]\n",
    "Output: [0,0,1,1,2,5]\n",
    "Explanation: Note that the values of nums are not necessairly unique.\n",
    "\n",
    "```\n",
    "\n",
    "**Constraints:**\n",
    "\n",
    "- `1 <= nums.length <= 5 * 10000`\n",
    "- `-5 * 104 <= nums[i] <= 5 * 10000`\n",
    "</aside>"
   ]
  },
  {
   "cell_type": "code",
   "execution_count": 17,
   "id": "b8a42e48",
   "metadata": {},
   "outputs": [],
   "source": [
    "def sortArray(nums):\n",
    "    def merge(left, right):\n",
    "        result = []\n",
    "        i = j = 0\n",
    "        while i < len(left) and j < len(right):\n",
    "            if left[i] <= right[j]:\n",
    "                result.append(left[i])\n",
    "                i += 1\n",
    "            else:\n",
    "                result.append(right[j])\n",
    "                j += 1\n",
    "        result.extend(left[i:])\n",
    "        result.extend(right[j:])\n",
    "        return result\n",
    "    \n",
    "    if len(nums) <= 1:\n",
    "        return nums\n",
    "    mid = len(nums) // 2\n",
    "    left = sortArray(nums[:mid])\n",
    "    right = sortArray(nums[mid:])\n",
    "    return merge(left, right)\n"
   ]
  },
  {
   "cell_type": "code",
   "execution_count": 18,
   "id": "deead36a",
   "metadata": {},
   "outputs": [
    {
     "name": "stdout",
     "output_type": "stream",
     "text": [
      "[1, 2, 3, 5]\n",
      "[0, 0, 1, 1, 2, 5]\n"
     ]
    }
   ],
   "source": [
    "# Example 1\n",
    "nums = [5, 2, 3, 1]\n",
    "sorted_nums = sortArray(nums)\n",
    "print(sorted_nums)\n",
    "# Output: [1, 2, 3, 5]\n",
    "\n",
    "# Example 2\n",
    "nums = [5, 1, 1, 2, 0, 0]\n",
    "sorted_nums = sortArray(nums)\n",
    "print(sorted_nums)\n",
    "# Output: [0, 0, 1, 1, 2, 5]\n"
   ]
  },
  {
   "cell_type": "markdown",
   "id": "237d8cab",
   "metadata": {},
   "source": [
    "<aside>\n",
    "💡 4. **Move all zeroes to end of array**\n",
    "\n",
    "Given an array of random numbers, Push all the zero’s of a given array to the end of the array. For example, if the given arrays is {1, 9, 8, 4, 0, 0, 2, 7, 0, 6, 0}, it should be changed to {1, 9, 8, 4, 2, 7, 6, 0, 0, 0, 0}. The order of all other elements should be same. Expected time complexity is O(n) and extra space is O(1).\n",
    "\n",
    "**Example:**\n",
    "Input :  arr[] = {1, 2, 0, 4, 3, 0, 5, 0};\n",
    "Output : arr[] = {1, 2, 4, 3, 5, 0, 0, 0};\n",
    "\n",
    "Input : arr[]  = {1, 2, 0, 0, 0, 3, 6};\n",
    "Output : arr[] = {1, 2, 3, 6, 0, 0, 0};\n",
    "</aside>"
   ]
  },
  {
   "cell_type": "code",
   "execution_count": 19,
   "id": "2d8e1121",
   "metadata": {},
   "outputs": [],
   "source": [
    "def moveZeroes(nums):\n",
    "    n = len(nums)\n",
    "    zero_count = 0\n",
    "    for i in range(n):\n",
    "        if nums[i] == 0:\n",
    "            zero_count += 1\n",
    "        elif zero_count > 0:\n",
    "            nums[i - zero_count] = nums[i]\n",
    "            nums[i] = 0\n",
    "    return nums\n"
   ]
  },
  {
   "cell_type": "code",
   "execution_count": 20,
   "id": "19fc3a23",
   "metadata": {},
   "outputs": [
    {
     "name": "stdout",
     "output_type": "stream",
     "text": [
      "[1, 9, 8, 4, 2, 7, 6, 0, 0, 0, 0]\n"
     ]
    }
   ],
   "source": [
    "# Example\n",
    "nums = [1, 9, 8, 4, 0, 0, 2, 7, 0, 6, 0]\n",
    "moved = moveZeroes(nums)\n",
    "print(moved)\n",
    "# Output: [1, 9, 8, 4, 2, 7, 6, 0, 0, 0, 0]\n"
   ]
  },
  {
   "cell_type": "markdown",
   "id": "305c42b8",
   "metadata": {},
   "source": [
    "<aside>\n",
    "💡 5. **Rearrange array in alternating positive & negative items with O(1) extra space**\n",
    "\n",
    "Given an **array of positive** and **negative numbers**, arrange them in an **alternate** fashion such that every positive number is followed by a negative and vice-versa maintaining the **order of appearance**. The number of positive and negative numbers need not be equal. If there are more positive numbers they appear at the end of the array. If there are more negative numbers, they too appear at the end of the array.\n",
    "\n",
    "**Examples:**\n",
    "\n",
    "> Input:  arr[] = {1, 2, 3, -4, -1, 4}\n",
    "Output: arr[] = {-4, 1, -1, 2, 3, 4}\n",
    "\n",
    "Input:  arr[] = {-5, -2, 5, 2, 4, 7, 1, 8, 0, -8}\n",
    "Output: arr[] = {-5, 5, -2, 2, -8, 4, 7, 1, 8, 0}\n",
    "> \n",
    "</aside>"
   ]
  },
  {
   "cell_type": "code",
   "execution_count": 43,
   "id": "90421017",
   "metadata": {},
   "outputs": [
    {
     "name": "stdout",
     "output_type": "stream",
     "text": [
      "Given Array is:\n",
      "[-5, -2, 5, 2, 4, 7, 1, 8, 0, -8]\n",
      "\n",
      "Rearranged array is:\n",
      "[-5, 5, -2, 2, -8, 4, 7, 1, 8, 0]\n"
     ]
    }
   ],
   "source": [
    "\n",
    "\n",
    "def rightRotate(arr, n, outOfPlace, cur):\n",
    "\ttemp = arr[cur]\n",
    "\tfor i in range(cur, outOfPlace, -1):\n",
    "\t\tarr[i] = arr[i - 1]\n",
    "\tarr[outOfPlace] = temp\n",
    "\treturn arr\n",
    "\n",
    "\n",
    "def rearrange(arr, n):\n",
    "\toutOfPlace = -1\n",
    "\tfor index in range(n):\n",
    "\t\tif(outOfPlace >= 0):\n",
    "\n",
    "\n",
    "\t\t\tif((arr[index] >= 0 and arr[outOfPlace] < 0) or\n",
    "\t\t\t(arr[index] < 0 and arr[outOfPlace] >= 0)):\n",
    "\t\t\t\tarr = rightRotate(arr, n, outOfPlace, index)\n",
    "\t\t\t\tif(index-outOfPlace > 2):\n",
    "\t\t\t\t\toutOfPlace += 2\n",
    "\t\t\t\telse:\n",
    "\t\t\t\t\toutOfPlace = - 1\n",
    "\n",
    "\t\tif(outOfPlace == -1):\n",
    "\n",
    "\t\t\tif((arr[index] >= 0 and index % 2 == 0) or\n",
    "\t\t\t(arr[index] < 0 and index % 2 == 1)):\n",
    "\t\t\t\toutOfPlace = index\n",
    "\treturn arr\n",
    "\n",
    "\n",
    "# Driver Code\n",
    "arr = [-5, -2, 5, 2, 4,\n",
    "\t7, 1, 8, 0, -8]\n",
    "\n",
    "print(\"Given Array is:\")\n",
    "print(arr)\n",
    "\n",
    "print(\"\\nRearranged array is:\")\n",
    "print(rearrange(arr, len(arr)))\n",
    "\n"
   ]
  },
  {
   "cell_type": "code",
   "execution_count": 26,
   "id": "1f7cfd31",
   "metadata": {},
   "outputs": [
    {
     "name": "stdout",
     "output_type": "stream",
     "text": [
      "[1, 2, -4, 2, -4, 2, -4, 3, -1, 4]\n"
     ]
    }
   ],
   "source": [
    "# Example\n",
    "nums = [1, 2, 3, -4, -1, 4]\n",
    "rearranged = rearrangeArray(nums)\n",
    "print(rearranged)\n",
    "# Output: [-4, 1, -1, 2, 3, 4]\n"
   ]
  },
  {
   "cell_type": "markdown",
   "id": "febfa5ee",
   "metadata": {},
   "source": [
    "<aside>\n",
    "💡 **6. Merge two sorted arrays**\n",
    "\n",
    "Given two sorted arrays, the task is to merge them in a sorted manner.\n",
    "\n",
    "**Examples:**\n",
    "\n",
    "> Input: arr1[] = { 1, 3, 4, 5}, arr2[] = {2, 4, 6, 8} \n",
    "Output: arr3[] = {1, 2, 3, 4, 4, 5, 6, 8}\n",
    "\n",
    "Input: arr1[] = { 5, 8, 9}, arr2[] = {4, 7, 8}\n",
    "Output: arr3[] = {4, 5, 7, 8, 8, 9}\n",
    "> \n",
    "</aside>"
   ]
  },
  {
   "cell_type": "code",
   "execution_count": 27,
   "id": "a76888c2",
   "metadata": {},
   "outputs": [],
   "source": [
    "def mergeArrays(arr1, arr2):\n",
    "    merged = []\n",
    "    i = j = 0\n",
    "    while i < len(arr1) and j < len(arr2):\n",
    "        if arr1[i] <= arr2[j]:\n",
    "            merged.append(arr1[i])\n",
    "            i += 1\n",
    "        else:\n",
    "            merged.append(arr2[j])\n",
    "            j += 1\n",
    "    merged.extend(arr1[i:])\n",
    "    merged.extend(arr2[j:])\n",
    "    return merged\n"
   ]
  },
  {
   "cell_type": "code",
   "execution_count": 29,
   "id": "9d0d784f",
   "metadata": {},
   "outputs": [
    {
     "name": "stdout",
     "output_type": "stream",
     "text": [
      "[1, 2, 3, 4, 4, 5, 6, 8]\n",
      "[4, 5, 7, 8, 8, 9]\n"
     ]
    }
   ],
   "source": [
    "# Example 1\n",
    "arr1 = [1, 3, 4, 5]\n",
    "arr2 = [2, 4, 6, 8]\n",
    "merged = mergeArrays(arr1, arr2)\n",
    "print(merged)\n",
    "# Output: [1, 2, 3, 4, 4, 5, 6, 8]\n",
    "\n",
    "# Example 2\n",
    "arr1 = [5, 8, 9]\n",
    "arr2 = [4, 7, 8]\n",
    "merged = mergeArrays(arr1, arr2)\n",
    "print(merged)\n",
    "# Output: [4, 5, 7, 8, 8, 9]\n"
   ]
  },
  {
   "cell_type": "markdown",
   "id": "74e5eae6",
   "metadata": {},
   "source": [
    "<aside>\n",
    "💡 7. **Intersection of Two Arrays**\n",
    "\n",
    "Given two integer arrays `nums1` and `nums2`, return *an array of their intersection*. Each element in the result must be **unique** and you may return the result in **any order**.\n",
    "\n",
    "**Example 1:**\n",
    "\n",
    "```\n",
    "Input: nums1 = [1,2,2,1], nums2 = [2,2]\n",
    "Output: [2]\n",
    "\n",
    "```\n",
    "\n",
    "**Example 2:**\n",
    "\n",
    "```\n",
    "Input: nums1 = [4,9,5], nums2 = [9,4,9,8,4]\n",
    "Output: [9,4]\n",
    "Explanation: [4,9] is also accepted.\n",
    "\n",
    "```\n",
    "\n",
    "**Constraints:**\n",
    "\n",
    "- `1 <= nums1.length, nums2.length <= 1000`\n",
    "- `0 <= nums1[i], nums2[i] <= 1000`\n",
    "</aside>"
   ]
  },
  {
   "cell_type": "code",
   "execution_count": 8,
   "id": "e9b9597b",
   "metadata": {},
   "outputs": [],
   "source": [
    "def intersection(nums1, nums2):\n",
    "    set1 = set(nums1)\n",
    "    set2 = set(nums2)\n",
    "    return list(set1.intersection(set2))\n"
   ]
  },
  {
   "cell_type": "code",
   "execution_count": 30,
   "id": "d1b41ae6",
   "metadata": {},
   "outputs": [
    {
     "name": "stdout",
     "output_type": "stream",
     "text": [
      "[2]\n",
      "[9, 4]\n"
     ]
    }
   ],
   "source": [
    "# Example 1\n",
    "nums1 = [1, 2, 2, 1]\n",
    "nums2 = [2, 2]\n",
    "intersection_nums = intersection(nums1, nums2)\n",
    "print(intersection_nums)\n",
    "# Output: [2]\n",
    "\n",
    "# Example 2\n",
    "nums1 = [4, 9, 5]\n",
    "nums2 = [9, 4, 9, 8, 4]\n",
    "intersection_nums = intersection(nums1, nums2)\n",
    "print(intersection_nums)\n",
    "# Output: [9, 4]\n"
   ]
  },
  {
   "cell_type": "markdown",
   "id": "074dc867",
   "metadata": {},
   "source": [
    "<aside>\n",
    "💡 8. **Intersection of Two Arrays II**\n",
    "\n",
    "Given two integer arrays `nums1` and `nums2`, return *an array of their intersection*. Each element in the result must appear as many times as it shows in both arrays and you may return the result in **any order**.\n",
    "\n",
    "**Example 1:**\n",
    "\n",
    "```\n",
    "Input: nums1 = [1,2,2,1], nums2 = [2,2]\n",
    "Output: [2,2]\n",
    "\n",
    "```\n",
    "\n",
    "**Example 2:**\n",
    "\n",
    "```\n",
    "Input: nums1 = [4,9,5], nums2 = [9,4,9,8,4]\n",
    "Output: [4,9]\n",
    "Explanation: [9,4] is also accepted.\n",
    "\n",
    "```\n",
    "\n",
    "**Constraints:**\n",
    "\n",
    "- `1 <= nums1.length, nums2.length <= 1000`\n",
    "- `0 <= nums1[i], nums2[i] <= 1000`\n",
    "</aside>"
   ]
  },
  {
   "cell_type": "code",
   "execution_count": 37,
   "id": "bcd68110",
   "metadata": {},
   "outputs": [
    {
     "name": "stdout",
     "output_type": "stream",
     "text": [
      "[2, 2]\n",
      "[9, 4]\n"
     ]
    }
   ],
   "source": [
    "def intersect(nums1, nums2):\n",
    "    freq = {}\n",
    "    result = []\n",
    "    for num in nums1:\n",
    "        freq[num] = freq.get(num, 0) + 1\n",
    "    for num in nums2:\n",
    "        if num in freq and freq[num] > 0:\n",
    "            result.append(num)\n",
    "            freq[num] -= 1\n",
    "    return result\n",
    "# Example 1\n",
    "nums1 = [1, 2, 2, 1]\n",
    "nums2 = [2, 2]\n",
    "intersection_nums = intersect(nums1, nums2)\n",
    "print(intersection_nums)\n",
    "# Output: [2, 2]\n",
    "\n",
    "# Example\n",
    "nums1 = [4, 9, 5]\n",
    "nums2 = [9, 4, 9, 8, 4]\n",
    "intersection_nums = intersect(nums1, nums2)\n",
    "print(intersection_nums)\n",
    "# Output: [4, 9]\n"
   ]
  }
 ],
 "metadata": {
  "kernelspec": {
   "display_name": "Python 3",
   "language": "python",
   "name": "python3"
  },
  "language_info": {
   "codemirror_mode": {
    "name": "ipython",
    "version": 3
   },
   "file_extension": ".py",
   "mimetype": "text/x-python",
   "name": "python",
   "nbconvert_exporter": "python",
   "pygments_lexer": "ipython3",
   "version": "3.9.13"
  }
 },
 "nbformat": 4,
 "nbformat_minor": 5
}
